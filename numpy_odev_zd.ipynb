{
 "cells": [
  {
   "cell_type": "markdown",
   "id": "666139a8-4503-4e41-8f59-dc6091caae9a",
   "metadata": {},
   "source": [
    "#### Ödev 1\n",
    "1. Sayılardan oluşan bir boyutlu array oluşturun. Arrayi oluştururken sayıların veri tipini integer olarak belirtelim.\n",
    "\n",
    "2. Oluşturulan arrayin boyut, eleman sayısı bilgilerine bakalım."
   ]
  },
  {
   "cell_type": "code",
   "execution_count": 132,
   "id": "92dba763-8915-4de6-8dcc-6282944022ff",
   "metadata": {},
   "outputs": [
    {
     "name": "stdout",
     "output_type": "stream",
     "text": [
      "Matris: [ 7 11 15 19 23 27 31]\n",
      "Boyut: (7,)\n",
      "Eleman sayısı: 7\n"
     ]
    }
   ],
   "source": [
    "import numpy as np\n",
    "\n",
    "matris = np.array([7, 11, 15, 19, 23, 27, 31], dtype=int)\n",
    "\n",
    "print(\"Matris:\", matris)\n",
    "print(\"Boyut:\", matris.shape)\n",
    "print(\"Eleman sayısı:\", matris.size)"
   ]
  },
  {
   "cell_type": "markdown",
   "id": "21619888-1044-47e6-9010-d8295bb6d007",
   "metadata": {},
   "source": [
    "#### Ödev 2\n",
    "Aşağıda verilen iki boyutlu ve üç boyutlu arrayi oluşturalım. Bu arraylerin boyut, eleman sayısı, satır, sütun bilgilerine ulaşalım.\n",
    "\n",
    "İki boyutlu array:\n",
    "[[1,2,6,7],\n",
    "[4,3,9,5]]\n",
    "\n",
    "Üç boyutlu array:\n",
    "[[[7,5,14],[21,8,11]],\n",
    "[[8,6,20],[14,3,9]]]"
   ]
  },
  {
   "cell_type": "code",
   "execution_count": 134,
   "id": "dc5a878d-29d6-4090-8523-2470c5569023",
   "metadata": {},
   "outputs": [
    {
     "name": "stdout",
     "output_type": "stream",
     "text": [
      "İki boyutlu matris:\n",
      "[[1 2 6 7]\n",
      " [4 3 9 5]]\n",
      " \n",
      "Boyut: 2\n",
      "Eleman sayısı: 8\n",
      "Satır ve sütun bilgisi: (2, 4)\n"
     ]
    }
   ],
   "source": [
    "import numpy as np\n",
    "\n",
    "matris2 = np.array([[1, 2, 6, 7],\n",
    "                   [4, 3, 9, 5]])\n",
    "\n",
    "print(\"İki boyutlu matris:\")\n",
    "print(matris2)\n",
    "print(\" \")\n",
    "print(\"Boyut:\", matris2.ndim)\n",
    "print(\"Eleman sayısı:\", matris2.size)\n",
    "print(\"Satır ve sütun bilgisi:\", matris2.shape)"
   ]
  },
  {
   "cell_type": "code",
   "execution_count": 136,
   "id": "bec3b65c-749f-4de0-9b6f-f870291dda5e",
   "metadata": {},
   "outputs": [
    {
     "name": "stdout",
     "output_type": "stream",
     "text": [
      "Üç boyutlu matris:\n",
      "[[[ 7  5 14]\n",
      "  [21  8 11]]\n",
      "\n",
      " [[ 8  6 20]\n",
      "  [14  3  9]]]\n",
      " \n",
      "Boyut: 3\n",
      "Eleman Sayısı: 7\n",
      "Satır ve sütun bilgisi: (2, 2, 3)\n"
     ]
    }
   ],
   "source": [
    "import numpy as np\n",
    "\n",
    "matris3 = np.array([[[7, 5, 14],\n",
    "                     [21, 8, 11]],\n",
    "                    [[8, 6, 20],\n",
    "                     [14, 3, 9]]])\n",
    "\n",
    "print(\"Üç boyutlu matris:\")\n",
    "print(matris3)\n",
    "print(\" \")\n",
    "print(\"Boyut:\", matris3.ndim)\n",
    "print(\"Eleman Sayısı:\", matris.size)\n",
    "print(\"Satır ve sütun bilgisi:\", matris3.shape)"
   ]
  },
  {
   "cell_type": "markdown",
   "id": "aa863549-dfeb-4526-8212-510b32822929",
   "metadata": {},
   "source": [
    "#### Ödev 3\n",
    "İstenilen elamanlara ulaşmak için arrayler üzerinde indexleme işlemi yapalım.\n",
    "\n",
    "1. İki boyutlu arraydaki 2 elemanına ulaşalım.\n",
    "\n",
    "2. İki boyutlu arraydaki 7 elemanına ulaşalım.\n",
    "\n",
    "3. Üç boyutlu arraydaki 9 elemanına ulaşalım.\n",
    "\n",
    "4. Üç boyutlu arraydaki 5 elemanına ulaşalım."
   ]
  },
  {
   "cell_type": "code",
   "execution_count": 138,
   "id": "5b006eba-e0ae-42cf-ae3c-95d5ad8b373b",
   "metadata": {},
   "outputs": [
    {
     "data": {
      "text/plain": [
       "2"
      ]
     },
     "execution_count": 138,
     "metadata": {},
     "output_type": "execute_result"
    }
   ],
   "source": [
    "import numpy as np\n",
    "\n",
    "matris2 = np.array([[1, 2, 6, 7],\n",
    "                   [4, 3, 9, 5]])\n",
    "matris2[0,1]"
   ]
  },
  {
   "cell_type": "code",
   "execution_count": 140,
   "id": "7024ba18-1090-42a2-b145-9829211f788a",
   "metadata": {},
   "outputs": [
    {
     "data": {
      "text/plain": [
       "7"
      ]
     },
     "execution_count": 140,
     "metadata": {},
     "output_type": "execute_result"
    }
   ],
   "source": [
    "import numpy as np\n",
    "\n",
    "matris2 = np.array([[1, 2, 6, 7],\n",
    "                   [4, 3, 9, 5]])\n",
    "matris2[0,3]"
   ]
  },
  {
   "cell_type": "code",
   "execution_count": 142,
   "id": "c314369f-0e76-4f1c-ad3c-5f6cc83b32f9",
   "metadata": {},
   "outputs": [
    {
     "data": {
      "text/plain": [
       "9"
      ]
     },
     "execution_count": 142,
     "metadata": {},
     "output_type": "execute_result"
    }
   ],
   "source": [
    "import numpy as np\n",
    "\n",
    "matris3 = np.array([[[7, 5, 14],\n",
    "                     [21, 8, 11]],\n",
    "                    [[8, 6, 20],\n",
    "                     [14, 3, 9]]])\n",
    "matris3[1,1,2]"
   ]
  },
  {
   "cell_type": "code",
   "execution_count": 144,
   "id": "28e74c97-0093-4958-bff5-5e845b5d176e",
   "metadata": {},
   "outputs": [
    {
     "data": {
      "text/plain": [
       "5"
      ]
     },
     "execution_count": 144,
     "metadata": {},
     "output_type": "execute_result"
    }
   ],
   "source": [
    "import numpy as np\n",
    "\n",
    "matris3 = np.array([[[7, 5, 14],\n",
    "                     [21, 8, 11]],\n",
    "                    [[8, 6, 20],\n",
    "                     [14, 3, 9]]])\n",
    "matris3[0,0,1]"
   ]
  },
  {
   "cell_type": "markdown",
   "id": "b5870ba9-aa39-425b-99f2-b5c8c3de62db",
   "metadata": {},
   "source": [
    "#### Ödev 4\n",
    "Arrayler üzerinde slicing işlemi uygulayalım.\n",
    "\n",
    "1. İki boyutlu arraydaki 2,6 elemanlarına ulaşalım.\n",
    "\n",
    "2. İki boyutlu arraydaki 3,9,5 elemanlarına ulaşalım.\n",
    "\n",
    "3. Üç boyutlu arraydaki 21,8,11 elemanlarına ulaşalım.\n",
    "\n",
    "4. Üç boyutlu arraydaki 6,20 elemanlarına ulaşalım."
   ]
  },
  {
   "cell_type": "code",
   "execution_count": 146,
   "id": "caf6f197-6047-42bc-bb64-29dd511b77df",
   "metadata": {},
   "outputs": [
    {
     "data": {
      "text/plain": [
       "array([[2, 6]])"
      ]
     },
     "execution_count": 146,
     "metadata": {},
     "output_type": "execute_result"
    }
   ],
   "source": [
    "import numpy as np\n",
    "\n",
    "matris2 = np.array([[1, 2, 6, 7],\n",
    "                   [4, 3, 9, 5]])\n",
    "matris2[0:1,1:3]"
   ]
  },
  {
   "cell_type": "code",
   "execution_count": 148,
   "id": "ac4ebfa5-6341-4d80-bbc4-9f0e1189c76b",
   "metadata": {},
   "outputs": [
    {
     "data": {
      "text/plain": [
       "array([[3, 9, 5]])"
      ]
     },
     "execution_count": 148,
     "metadata": {},
     "output_type": "execute_result"
    }
   ],
   "source": [
    "import numpy as np\n",
    "\n",
    "matris2 = np.array([[1, 2, 6, 7],\n",
    "                   [4, 3, 9, 5]])\n",
    "matris2[1:2,1:4]"
   ]
  },
  {
   "cell_type": "code",
   "execution_count": 150,
   "id": "9fde7a19-484d-4191-a80f-ee22543e53ef",
   "metadata": {},
   "outputs": [
    {
     "data": {
      "text/plain": [
       "array([[[21,  8, 11]]])"
      ]
     },
     "execution_count": 150,
     "metadata": {},
     "output_type": "execute_result"
    }
   ],
   "source": [
    "import numpy as np\n",
    "\n",
    "matris3 = np.array([[[7, 5, 14],\n",
    "                     [21, 8, 11]],\n",
    "                    [[8, 6, 20],\n",
    "                     [14, 3, 9]]])\n",
    "matris3[0:1,1:2,0:3]"
   ]
  },
  {
   "cell_type": "code",
   "execution_count": 152,
   "id": "779643d9-1c1e-461c-8fed-2e5ee90fe1a3",
   "metadata": {},
   "outputs": [
    {
     "data": {
      "text/plain": [
       "array([[[ 6, 20]]])"
      ]
     },
     "execution_count": 152,
     "metadata": {},
     "output_type": "execute_result"
    }
   ],
   "source": [
    "import numpy as np\n",
    "\n",
    "matris3 = np.array([[[7, 5, 14],\n",
    "                     [21, 8, 11]],\n",
    "                    [[8, 6, 20],\n",
    "                     [14, 3, 9]]])\n",
    "matris3[1:2,0:1,1:3]"
   ]
  },
  {
   "cell_type": "markdown",
   "id": "60e5d6da-5ee0-4243-80c4-a64aa3c50752",
   "metadata": {},
   "source": [
    "#### Ödev 5\n",
    "5 satır 3 sütunluk sıfırlardan ve birlerden oluşan iki tane iki boyutlu array oluşturalım. Bu arrayleri satır ve sütun bazında birleştirelim."
   ]
  },
  {
   "cell_type": "code",
   "execution_count": 154,
   "id": "b4cec9fa-7189-4955-a064-f8d88489be95",
   "metadata": {},
   "outputs": [
    {
     "name": "stdout",
     "output_type": "stream",
     "text": [
      "0 matrisi:\n",
      "[[0 0 0]\n",
      " [0 0 0]\n",
      " [0 0 0]\n",
      " [0 0 0]\n",
      " [0 0 0]]\n",
      "1 matrisi:\n",
      "[[1 1 1]\n",
      " [1 1 1]\n",
      " [1 1 1]\n",
      " [1 1 1]\n",
      " [1 1 1]]\n",
      "Satır bazında birleşme:\n",
      "[[0 0 0]\n",
      " [0 0 0]\n",
      " [0 0 0]\n",
      " [0 0 0]\n",
      " [0 0 0]\n",
      " [1 1 1]\n",
      " [1 1 1]\n",
      " [1 1 1]\n",
      " [1 1 1]\n",
      " [1 1 1]]\n",
      "Sütun bazında birleşme:\n",
      "[[0 0 0 1 1 1]\n",
      " [0 0 0 1 1 1]\n",
      " [0 0 0 1 1 1]\n",
      " [0 0 0 1 1 1]\n",
      " [0 0 0 1 1 1]]\n"
     ]
    }
   ],
   "source": [
    "import numpy as np\n",
    "\n",
    "sifir = np.zeros((5,3), dtype = \"int\")\n",
    "print(\"0 matrisi:\")\n",
    "print(sifir)\n",
    "\n",
    "bir = np.ones((5,3), dtype = \"int\")\n",
    "print(\"1 matrisi:\")\n",
    "print(bir)\n",
    "\n",
    "satir = np.concatenate([sifir,bir], axis = 0)\n",
    "print(\"Satır bazında birleşme:\")\n",
    "print(satir)\n",
    "\n",
    "sutun = np.concatenate([sifir,bir], axis = 1)\n",
    "print(\"Sütun bazında birleşme:\")\n",
    "print(sutun)"
   ]
  }
 ],
 "metadata": {
  "kernelspec": {
   "display_name": "Python [conda env:base] *",
   "language": "python",
   "name": "conda-base-py"
  },
  "language_info": {
   "codemirror_mode": {
    "name": "ipython",
    "version": 3
   },
   "file_extension": ".py",
   "mimetype": "text/x-python",
   "name": "python",
   "nbconvert_exporter": "python",
   "pygments_lexer": "ipython3",
   "version": "3.12.7"
  }
 },
 "nbformat": 4,
 "nbformat_minor": 5
}
